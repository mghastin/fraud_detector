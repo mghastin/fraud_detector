{
 "cells": [
  {
   "cell_type": "code",
   "execution_count": 22,
   "id": "06a8d007-0eea-4602-9758-eb01f39540fc",
   "metadata": {},
   "outputs": [],
   "source": [
    "import pandas as pd\n",
    "df = pd.read_csv(\"creditcard.csv\")\n",
    "y = df[\"Class\"]\n",
    "X = df.drop(\"Time\", axis=\"columns\").drop(\"Class\", axis=\"columns\")\n",
    "\n",
    "# insert normalization, feature engineering here. Determine if I should use pandas or sklearn pipeline to do this.\n",
    "# consider doing cost sensitive"
   ]
  },
  {
   "cell_type": "code",
   "execution_count": 23,
   "id": "7371a090-73a7-480c-aba0-826281a490f0",
   "metadata": {},
   "outputs": [],
   "source": [
    "from sklearn.model_selection import train_test_split\n",
    "X_train, X_test, y_train, y_test = train_test_split(X, y, test_size=0.33, random_state=42)"
   ]
  },
  {
   "cell_type": "code",
   "execution_count": 24,
   "id": "468086c7-882e-4fe3-87d5-08cfd3358e20",
   "metadata": {},
   "outputs": [],
   "source": [
    "from sklearn import linear_model\n",
    "logr = linear_model.LogisticRegression(max_iter=1000)\n",
    "logr.fit(X_train,y_train)\n",
    "y_pred = logr.predict(X_test)"
   ]
  },
  {
   "cell_type": "code",
   "execution_count": 25,
   "id": "a978aa47-5715-4dd0-b49c-ccc21e02b41f",
   "metadata": {},
   "outputs": [
    {
     "name": "stdout",
     "output_type": "stream",
     "text": [
      "[1 0 0 ... 0 0 0]\n"
     ]
    }
   ],
   "source": [
    "print(predicted)"
   ]
  },
  {
   "cell_type": "code",
   "execution_count": 27,
   "id": "a1f5cdab-726d-48e7-9fbe-75a709811eb3",
   "metadata": {},
   "outputs": [
    {
     "name": "stdout",
     "output_type": "stream",
     "text": [
      "0.9992552161469139\n"
     ]
    }
   ],
   "source": [
    "from sklearn.metrics import accuracy_score\n",
    "\n",
    "accuracy = accuracy_score(y_test, y_pred)\n",
    "print(accuracy)"
   ]
  },
  {
   "cell_type": "code",
   "execution_count": 29,
   "id": "97ce11b1-a3c5-418a-947f-fc9a2727ccbf",
   "metadata": {},
   "outputs": [
    {
     "name": "stdout",
     "output_type": "stream",
     "text": [
      "0.5430909660149157\n"
     ]
    }
   ],
   "source": [
    "from sklearn.metrics import average_precision_score\n",
    "\n",
    "average_precision = average_precision_score(y_test, y_pred)\n",
    "print(average_precision)"
   ]
  },
  {
   "cell_type": "code",
   "execution_count": 44,
   "id": "11004853-c812-4820-a8bf-ab6f406f611a",
   "metadata": {},
   "outputs": [],
   "source": [
    "count_fraud = len(df[df[\"Class\"] == 1])\n",
    "count_total = len(df)"
   ]
  },
  {
   "cell_type": "code",
   "execution_count": 47,
   "id": "8642075e-35d0-4ff8-917f-c3eb85a11ca7",
   "metadata": {},
   "outputs": [
    {
     "name": "stdout",
     "output_type": "stream",
     "text": [
      "0.1727485630620034\n"
     ]
    }
   ],
   "source": [
    "print(count_fraud/count_total*100)"
   ]
  },
  {
   "cell_type": "code",
   "execution_count": null,
   "id": "9174ef3a-24bc-4d36-aecc-d4e9ce4f70d0",
   "metadata": {},
   "outputs": [],
   "source": []
  }
 ],
 "metadata": {
  "kernelspec": {
   "display_name": "Python 3 (ipykernel)",
   "language": "python",
   "name": "python3"
  },
  "language_info": {
   "codemirror_mode": {
    "name": "ipython",
    "version": 3
   },
   "file_extension": ".py",
   "mimetype": "text/x-python",
   "name": "python",
   "nbconvert_exporter": "python",
   "pygments_lexer": "ipython3",
   "version": "3.9.6"
  }
 },
 "nbformat": 4,
 "nbformat_minor": 5
}
